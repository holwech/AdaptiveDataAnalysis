{
 "cells": [
  {
   "cell_type": "code",
   "execution_count": 18,
   "metadata": {},
   "outputs": [],
   "source": [
    "import os\n",
    "import pandas as pd # data processing, CSV file I/O (e.g. pd.read_csv)\n",
    "import numpy as np\n",
    "import matplotlib.pyplot as plt\n",
    "train_df = pd.read_json('data/train.json')\n",
    "\n",
    "bands = pd.read_csv('data/features_bands.csv').drop(['Unnamed: 0','id','is_iceberg','not_iceberg'],axis=1)\n",
    "imf_1 = pd.read_csv('data/features_imf_1.csv').drop(['Unnamed: 0','id','is_iceberg','not_iceberg','inc_angle'],axis=1)\n",
    "imf_2 = pd.read_csv('data/features_imf_2.csv').drop(['Unnamed: 0','id','is_iceberg','not_iceberg','inc_angle'],axis=1)\n",
    "res_1 = pd.read_csv('data/features_res_1.csv').drop(['Unnamed: 0','id','is_iceberg','not_iceberg','inc_angle'],axis=1)\n",
    "res_2 = pd.read_csv('data/features_res_2.csv').drop(['Unnamed: 0','id','is_iceberg','not_iceberg','inc_angle'],axis=1)\n",
    "\n",
    "Y = train_df['is_iceberg']"
   ]
  },
  {
   "cell_type": "code",
   "execution_count": 107,
   "metadata": {},
   "outputs": [],
   "source": [
    "from sklearn import svm\n",
    "from sklearn.model_selection import cross_val_score\n",
    "from sklearn.preprocessing import StandardScaler\n",
    "from sklearn.pipeline import make_pipeline\n",
    "from sklearn.metrics import accuracy_score\n",
    "from sklearn import preprocessing"
   ]
  },
  {
   "cell_type": "code",
   "execution_count": 120,
   "metadata": {},
   "outputs": [
    {
     "data": {
      "text/plain": [
       "0.84541019668737061"
      ]
     },
     "execution_count": 120,
     "metadata": {},
     "output_type": "execute_result"
    }
   ],
   "source": [
    "X = np.concatenate([\n",
    "#    bands.as_matrix(),\n",
    "    imf_1.as_matrix(),\n",
    "    imf_2.as_matrix(),\n",
    "    res_1.as_matrix(),\n",
    "    res_2.as_matrix()\n",
    "    ],\n",
    "        axis=1)\n",
    "clf = make_pipeline(preprocessing.StandardScaler(), svm.SVC(kernel='linear'))\n",
    "scores = cross_val_score(clf, X, Y, cv=10, scoring='accuracy')\n",
    "scores.mean()"
   ]
  },
  {
   "cell_type": "code",
   "execution_count": null,
   "metadata": {},
   "outputs": [],
   "source": []
  }
 ],
 "metadata": {
  "kernelspec": {
   "display_name": "Python 3",
   "language": "python",
   "name": "python3"
  },
  "language_info": {
   "codemirror_mode": {
    "name": "ipython",
    "version": 3
   },
   "file_extension": ".py",
   "mimetype": "text/x-python",
   "name": "python",
   "nbconvert_exporter": "python",
   "pygments_lexer": "ipython3",
   "version": "3.5.2"
  }
 },
 "nbformat": 4,
 "nbformat_minor": 2
}
