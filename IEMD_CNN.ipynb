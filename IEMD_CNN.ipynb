{
 "cells": [
  {
   "cell_type": "code",
   "execution_count": 1,
   "metadata": {
    "_cell_guid": "687cb550-85e9-4edf-b526-3649bea62cff",
    "_uuid": "0623efc7883eef58f0d6d0b9cae432b3b7a2193c",
    "collapsed": true
   },
   "outputs": [],
   "source": [
    "# This Python 3 environment comes with many helpful analytics libraries installed\n",
    "# It is defined by the kaggle/python docker image: https://github.com/kaggle/docker-python\n",
    "# For example, here's several helpful packages to load in \n",
    "\n",
    "import numpy as np # linear algebra\n",
    "import pandas as pd # data processing, CSV file I/O (e.g. pd.read_csv)\n"
   ]
  },
  {
   "cell_type": "code",
   "execution_count": 2,
   "metadata": {
    "_cell_guid": "4eae4f59-365b-40f4-9b73-b55f0b60f4b9",
    "_uuid": "c2e7ef1009f433aa88f7a4f72a2cbf8e4f2e53ad"
   },
   "outputs": [
    {
     "name": "stdout",
     "output_type": "stream",
     "text": [
      "                                              band_1  \\\n",
      "0  [-27.878360999999998, -27.15416, -28.668615, -...   \n",
      "1  [-12.242375, -14.920304999999999, -14.920363, ...   \n",
      "2  [-24.603676, -24.603714, -24.871029, -23.15277...   \n",
      "3  [-22.454607, -23.082819, -23.998013, -23.99805...   \n",
      "4  [-26.006956, -23.164886, -23.164886, -26.89116...   \n",
      "\n",
      "                                              band_2        id inc_angle  \\\n",
      "0  [-27.154118, -29.537888, -31.0306, -32.190483,...  dfd5f913   43.9239   \n",
      "1  [-31.506321, -27.984554, -26.645678, -23.76760...  e25388fd   38.1562   \n",
      "2  [-24.870956, -24.092632, -20.653963, -19.41104...  58b2aaa0   45.2859   \n",
      "3  [-27.889421, -27.519794, -27.165262, -29.10350...  4cfc3a18   43.8306   \n",
      "4  [-27.206915, -30.259186, -30.259186, -23.16495...  271f93f4   35.6256   \n",
      "\n",
      "   is_iceberg  \n",
      "0           0  \n",
      "1           0  \n",
      "2           1  \n",
      "3           0  \n",
      "4           0  \n",
      "(1604, 5)\n",
      "                                              band_1  \\\n",
      "0  [-15.863251, -15.201077, -17.887735, -19.17248...   \n",
      "1  [-26.058969497680664, -26.058969497680664, -26...   \n",
      "2  [-14.14109992980957, -15.064241409301758, -17....   \n",
      "3  [-12.167478, -13.706167, -16.54837, -13.572674...   \n",
      "4  [-23.37459373474121, -26.02718162536621, -28.1...   \n",
      "\n",
      "                                              band_2        id  inc_angle  \n",
      "0  [-21.629612, -21.142353, -23.908337, -28.34524...  5941774d  34.966400  \n",
      "1  [-25.754207611083984, -25.754207611083984, -25...  4023181e  32.615072  \n",
      "2  [-14.74563980102539, -14.590410232543945, -14....  b20200e4  37.505433  \n",
      "3  [-24.32222, -26.375538, -24.096739, -23.8769, ...  e7f018bb  34.473900  \n",
      "4  [-25.72234344482422, -27.011577606201172, -23....  4371c8c3  43.918874  \n",
      "(8424, 4)\n"
     ]
    }
   ],
   "source": [
    "train_data = pd.read_json('./data/train.json')\n",
    "test_data = pd.read_json('./data/test.json')\n",
    "\n",
    "print(train_data.head())\n",
    "print(train_data.shape)\n",
    "print(test_data.head())\n",
    "print(test_data.shape)\n"
   ]
  },
  {
   "cell_type": "code",
   "execution_count": 3,
   "metadata": {
    "_cell_guid": "312b0821-8989-461c-81d5-765d1388df35",
    "_uuid": "5dd702620925b489a8d23e98adc5dac59fb8863f",
    "collapsed": true
   },
   "outputs": [],
   "source": [
    "# Training data\n",
    "x1_train = np.array([np.array(band).astype(np.float32).reshape(75, 75, 1) for band in train_data[\"band_1\"]])\n",
    "x2_train = np.array([np.array(band).astype(np.float32).reshape(75, 75, 1) for band in train_data[\"band_2\"]])\n",
    "\n",
    "# Testing data\n",
    "x1_test = np.array([np.array(band).astype(np.float32).reshape(75, 75, 1) for band in test_data[\"band_1\"]])\n",
    "x2_test = np.array([np.array(band).astype(np.float32).reshape(75, 75, 1) for band in test_data[\"band_2\"]])\n"
   ]
  },
  {
   "cell_type": "code",
   "execution_count": null,
   "metadata": {
    "_cell_guid": "b1f98f3d-9ce3-4b03-8871-bf68b5acf76b",
    "_uuid": "4a97e4fa0e429393a7af2facc91afd5422737975",
    "collapsed": true
   },
   "outputs": [],
   "source": [
    "x3_train = np.array([residue_1(x1_train[i]) for i in range(x1_train.shape[0])])\n",
    "x4_train = np.array([residue_1(x2_train[i]) for i in range(x2_train.shape[0])])\n",
    "X_train = np.concatenate([x1_train, x2_train, x3_train, x4_train], axis=-1)\n"
   ]
  },
  {
   "cell_type": "code",
   "execution_count": 10,
   "metadata": {
    "_cell_guid": "31ba1f47-fbde-4cfd-a910-235be0499998",
    "_uuid": "7b541be4c8d518b2008f3f92ebf767295eebf19c",
    "collapsed": true
   },
   "outputs": [],
   "source": [
    "X_train = np.concatenate([x1_train, x2_train,(x1_train+x2_train)/2], axis=-1)\n",
    "Y_train = np.array(train_data[\"is_iceberg\"])\n",
    "X_test = np.concatenate([x1_test, x2_test], axis=-1)\n"
   ]
  },
  {
   "cell_type": "code",
   "execution_count": 11,
   "metadata": {
    "_cell_guid": "b1f98f3d-9ce3-4b03-8871-bf68b5acf76b",
    "_uuid": "4a97e4fa0e429393a7af2facc91afd5422737975"
   },
   "outputs": [],
   "source": [
    "from keras.preprocessing.image import ImageDataGenerator\n",
    "\n",
    "normalize1 = ImageDataGenerator(\n",
    "    featurewise_center=True,\n",
    "    featurewise_std_normalization = True\n",
    ")\n",
    "normalize1.fit(X_train)\n",
    "X_train = next(normalize1.flow(X_train,None,batch_size=X_train.shape[0],shuffle=False))\n",
    "\n",
    "\n"
   ]
  },
  {
   "cell_type": "code",
   "execution_count": 12,
   "metadata": {
    "_cell_guid": "3387d1f8-3ebf-46c3-8025-01389dd691e2",
    "_uuid": "76786cf33145cc25335cb346e33fbfc467e39849"
   },
   "outputs": [],
   "source": [
    "import numpy as np\n",
    "import keras\n",
    "from keras.models import Sequential\n",
    "from keras.layers import Dense, Dropout, Flatten, BatchNormalization\n",
    "from keras import regularizers\n",
    "from keras.layers import Conv2D, SeparableConv2D, MaxPooling2D, GlobalAveragePooling2D\n",
    "from keras.optimizers import SGD\n",
    "from keras.layers.normalization import BatchNormalization\n",
    "\n",
    "\n",
    "\n",
    "# Create model\n",
    "model = Sequential()\n",
    "model.add(Conv2D(32, kernel_size=(3, 3),\n",
    "                 activation='relu',\n",
    "                 input_shape=(75,75,3)))\n",
    "model.add(Conv2D(64, (3, 3), activation='relu'))\n",
    "model.add(MaxPooling2D(pool_size=(2, 2)))\n",
    "model.add(Dropout(0.25))\n",
    "model.add(Flatten())\n",
    "model.add(Dense(128, activation='relu'))\n",
    "model.add(Dropout(0.5))\n",
    "model.add(Dense(1, activation='sigmoid'))\n",
    "\n"
   ]
  },
  {
   "cell_type": "code",
   "execution_count": null,
   "metadata": {
    "_cell_guid": "b7e76b71-8b5f-43af-ac12-a8dde0cb6d1e",
    "_uuid": "b94be33dc21b02fbac3ce6a421a887966479c283",
    "scrolled": true
   },
   "outputs": [
    {
     "name": "stdout",
     "output_type": "stream",
     "text": [
      "Epoch 1/10\n",
      "1282/1282 [==============================] - 32s - loss: 1.2956 - acc: 0.5359    \n",
      "Epoch 2/10\n",
      "1282/1282 [==============================] - 30s - loss: 0.6188 - acc: 0.6825    \n",
      "Epoch 3/10\n",
      "1282/1282 [==============================] - 31s - loss: 0.4750 - acc: 0.7668    \n",
      "Epoch 4/10\n",
      "1282/1282 [==============================] - 31s - loss: 0.3753 - acc: 0.8253    \n",
      "Epoch 5/10\n",
      "1282/1282 [==============================] - 31s - loss: 0.3076 - acc: 0.8775    \n",
      "Epoch 6/10\n",
      "1282/1282 [==============================] - 31s - loss: 0.1933 - acc: 0.9314    \n",
      "Epoch 7/10\n",
      "1282/1282 [==============================] - 31s - loss: 0.0999 - acc: 0.9688    \n",
      "Epoch 8/10\n",
      "1282/1282 [==============================] - 32s - loss: 0.0767 - acc: 0.9789    \n",
      "Epoch 9/10\n",
      "1282/1282 [==============================] - 32s - loss: 0.0446 - acc: 0.9891    \n",
      "Epoch 10/10\n",
      "1282/1282 [==============================] - 30s - loss: 0.0343 - acc: 0.9899    \n",
      "320/322 [============================>.] - ETA: 0s\n",
      " [0.39424761387626917, 0.85403726708074534]\n",
      "Epoch 1/10\n",
      " 192/1283 [===>..........................] - ETA: 31s - loss: 0.2226 - acc: 0.9375"
     ]
    }
   ],
   "source": [
    "from sklearn.model_selection import StratifiedKFold\n",
    "kfold = StratifiedKFold(n_splits=5, shuffle=True, random_state=42)\n",
    "\n",
    "X = X_train\n",
    "Y = Y_train\n",
    "for train, test in kfold.split(X, Y):\n",
    "    model.compile(\"adam\", \"binary_crossentropy\", metrics=[\"accuracy\"])\n",
    "    model.fit(X[train], Y[train],epochs=10)\n",
    "    scores = model.evaluate(X[test], Y[test], verbose=1)\n",
    "    print('\\n',scores)\n"
   ]
  },
  {
   "cell_type": "code",
   "execution_count": null,
   "metadata": {
    "_cell_guid": "c6aedd7f-6a07-4ba1-a784-42d8da630fed",
    "_uuid": "da8b832f5a64f1a4acea869043742c92e1f5fb27",
    "collapsed": true,
    "scrolled": true
   },
   "outputs": [],
   "source": [
    "print(model.predict(X_train[0:10,:,:,:]))\n",
    "print(Y_train[0:10])"
   ]
  },
  {
   "cell_type": "code",
   "execution_count": null,
   "metadata": {
    "_cell_guid": "f3a8da74-c6a4-48c5-b61e-957f23b5d426",
    "_uuid": "e63643dbd0f97f265df3d4060ff53feedf52e080",
    "collapsed": true
   },
   "outputs": [],
   "source": [
    "prediction = model.predict(X_test, verbose=1)\n",
    "submit_df = pd.DataFrame({'id': test_data[\"id\"], 'is_iceberg': prediction.flatten()})\n",
    "submit_df.head()"
   ]
  },
  {
   "cell_type": "code",
   "execution_count": null,
   "metadata": {
    "_cell_guid": "1a0c8d4c-54f2-41c0-9b5e-1a7e62287e35",
    "_uuid": "7946eeb655dacee90f64ca5d40f60270609c8374",
    "collapsed": true
   },
   "outputs": [],
   "source": [
    "submit_df.to_csv(\"./naive_submission.csv\", index=False)"
   ]
  }
 ],
 "metadata": {
  "kernelspec": {
   "display_name": "Python 3",
   "language": "python",
   "name": "python3"
  },
  "language_info": {
   "codemirror_mode": {
    "name": "ipython",
    "version": 3
   },
   "file_extension": ".py",
   "mimetype": "text/x-python",
   "name": "python",
   "nbconvert_exporter": "python",
   "pygments_lexer": "ipython3",
   "version": "3.5.4"
  }
 },
 "nbformat": 4,
 "nbformat_minor": 1
}
