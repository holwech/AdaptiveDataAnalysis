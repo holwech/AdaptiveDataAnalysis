{
 "cells": [
  {
   "cell_type": "code",
   "execution_count": 7,
   "metadata": {
    "collapsed": true
   },
   "outputs": [],
   "source": [
    "%matplotlib inline"
   ]
  },
  {
   "cell_type": "markdown",
   "metadata": {},
   "source": [
    "Load data"
   ]
  },
  {
   "cell_type": "code",
   "execution_count": 5,
   "metadata": {},
   "outputs": [
    {
     "name": "stdout",
     "output_type": "stream",
     "text": [
      "                                                 band_1  \\\n",
      "0     [-27.878360999999998, -27.15416, -28.668615, -...   \n",
      "1     [-12.242375, -14.920304999999999, -14.920363, ...   \n",
      "10    [-21.397552, -19.753859, -23.426783, -24.65221...   \n",
      "100   [-20.04884, -19.469616, -20.510244, -19.61095,...   \n",
      "1000  [-23.199345, -23.603487, -25.965549, -27.12546...   \n",
      "\n",
      "                                           band_1_imf_1  \\\n",
      "0     [-1.0988919319, 1.239443876, 1.409309769, 1.78...   \n",
      "1     [2.4278357347, -1.3780950106, -2.3385344714, -...   \n",
      "10    [-1.7847317978000001, 0.9742218610000001, -1.6...   \n",
      "100   [0.8357792581, 1.6927222944, 0.425647055400000...   \n",
      "1000  [2.2859250366, 1.7747136375, -0.759889985, -2....   \n",
      "\n",
      "                                           band_1_imf_2  \\\n",
      "0     [1.1319092477, -0.32762335470000004, -1.837899...   \n",
      "1     [-2.8254492228, -1.5818709048000001, -0.494550...   \n",
      "10    [1.6184066341999999, 0.8262911725000001, 0.178...   \n",
      "100   [-1.8042717303, -2.0760571188, -1.8749595149, ...   \n",
      "1000  [-0.7697169039, -0.6424946935, -0.441700105, -...   \n",
      "\n",
      "                                           band_1_imf_3  \\\n",
      "0     [-0.7943023179, -0.8981179436000001, -1.022951...   \n",
      "1     [0.7773127355, 0.6550471867000001, 0.528726906...   \n",
      "10    [1.333604563, 1.0266682715, 0.6308548306, 0.21...   \n",
      "100   [-0.8140859122, -0.8211322161, -0.765283522400...   \n",
      "1000  [0.8405953873, 0.7621928391, 0.6730921705, 0.5...   \n",
      "\n",
      "                                           band_1_imf_4  \\\n",
      "0     [-0.1155203191, -0.1442084502, -0.1632515676, ...   \n",
      "1     [-0.7911746286, -0.7220820441, -0.6461949378, ...   \n",
      "10    [1.7431997960999999, 1.6910018275, 1.627563907...   \n",
      "100   [-0.1267661296, -0.0426088286, 0.0298218021000...   \n",
      "1000  [-0.40429500560000003, -0.3409307509, -0.27529...   \n",
      "\n",
      "                                                 band_2  \\\n",
      "0     [-27.154118, -29.537888, -31.0306, -32.190483,...   \n",
      "1     [-31.506321, -27.984554, -26.645678, -23.76760...   \n",
      "10    [-26.72291, -27.418192, -27.787899, -25.774536...   \n",
      "100   [-29.742329, -26.374287, -25.490265, -25.49031...   \n",
      "1000  [-23.004148, -24.942425, -24.472878, -23.00437...   \n",
      "\n",
      "                                           band_2_imf_1  \\\n",
      "0     [4.6054819346, 1.8531034167, -0.44545431350000...   \n",
      "1     [-2.6411338709, -0.6127070689, -0.7140450318, ...   \n",
      "10    [0.6738362457, -0.5029643124000001, -1.0734381...   \n",
      "100   [-3.2620455659, 0.8312239104, 2.5302209363, 3....   \n",
      "1000  [4.1674027453, 1.9993470802000002, 2.484681395...   \n",
      "\n",
      "                                           band_2_imf_2  \\\n",
      "0     [-1.3913482047, -0.664404976, 0.4903189719, 1....   \n",
      "1     [-1.7494047701, -0.5878815036, 0.479933904, 1....   \n",
      "10    [1.201462891, 1.7490313627, 2.0251007602, 1.68...   \n",
      "100   [1.4161977531, 1.2448335857, 0.9831326344, 0.8...   \n",
      "1000  [-1.511931527, -1.0931710414, -0.9423791650000...   \n",
      "\n",
      "                                           band_2_imf_3  \\\n",
      "0     [-1.1130209481, -1.4270182309, -1.7265201581, ...   \n",
      "1     [-0.741042411, -0.5397889651000001, -0.3127055...   \n",
      "10    [0.4694468, 0.39936250570000004, 0.32192760740...   \n",
      "100   [0.0729997761, -0.4046103327, -0.8777995627, -...   \n",
      "1000  [1.8849139415, 1.5846195381000001, 1.283646581...   \n",
      "\n",
      "                                           band_2_imf_4        id  inc_angle  \\\n",
      "0     [1.2058021648000001, 1.171156506, 1.1340680805...  dfd5f913    43.9239   \n",
      "1     [-1.0140161763, -0.8394511398000001, -0.650209...  e25388fd    38.1562   \n",
      "10    [-0.2076576534, -0.1757431419, -0.1466871693, ...  3aac67cd    44.6240   \n",
      "100   [4.4645905189, 4.2823327003, 4.0940809133, 3.9...  66348d03    41.1342   \n",
      "1000  [-1.4909440313, -1.3918354811, -1.2718504762, ...  7052a617    33.8975   \n",
      "\n",
      "      is_iceberg  \n",
      "0              0  \n",
      "1              0  \n",
      "10             1  \n",
      "100            0  \n",
      "1000           0  \n"
     ]
    }
   ],
   "source": [
    "import os\n",
    "import pandas as pd # data processing, CSV file I/O (e.g. pd.read_csv)\n",
    "train_df = pd.read_json(os.path.join('.','data','train_with_imfs_full.json'))\n",
    "\n",
    "print(train_df.head())"
   ]
  },
  {
   "cell_type": "markdown",
   "metadata": {},
   "source": [
    "Preprocess"
   ]
  },
  {
   "cell_type": "code",
   "execution_count": 10,
   "metadata": {},
   "outputs": [],
   "source": [
    "import numpy as np\n",
    "\n",
    "X1 = np.array([np.array(band).astype(np.float32).reshape(75, 75) for band in train_df[\"band_1\"]])\n",
    "X2 = np.array([np.array(band).astype(np.float32).reshape(75, 75) for band in train_df[\"band_1_imf_1\"]])\n",
    "X3 = np.array([np.array(band).astype(np.float32).reshape(75, 75) for band in train_df[\"band_1_imf_2\"]])\n",
    "X4 = np.array([np.array(band).astype(np.float32).reshape(75, 75) for band in train_df[\"band_1_imf_3\"]])\n",
    "X5 = np.array([np.array(band).astype(np.float32).reshape(75, 75) for band in train_df[\"band_1_imf_4\"]])\n",
    "X6 = np.array([np.array(band).astype(np.float32).reshape(75, 75) for band in train_df[\"band_2\"]])\n",
    "X7 = np.array([np.array(band).astype(np.float32).reshape(75, 75) for band in train_df[\"band_2_imf_1\"]])\n",
    "X8 = np.array([np.array(band).astype(np.float32).reshape(75, 75) for band in train_df[\"band_2_imf_2\"]])\n",
    "X9 = np.array([np.array(band).astype(np.float32).reshape(75, 75) for band in train_df[\"band_2_imf_3\"]])\n",
    "X10 = np.array([np.array(band).astype(np.float32).reshape(75, 75) for band in train_df[\"band_2_imf_4\"]])\n"
   ]
  },
  {
   "cell_type": "code",
   "execution_count": 96,
   "metadata": {},
   "outputs": [
    {
     "name": "stderr",
     "output_type": "stream",
     "text": [
      "C:\\Users\\adria\\Anaconda3\\lib\\site-packages\\skimage\\feature\\_hog.py:119: skimage_deprecation: Default value of `block_norm`==`L1` is deprecated and will be changed to `L2-Hys` in v0.15\n",
      "  'be changed to `L2-Hys` in v0.15', skimage_deprecation)\n"
     ]
    },
    {
     "name": "stdout",
     "output_type": "stream",
     "text": [
      "[ 0.0033252   0.00373909  0.00339389 ...,  0.00203519  0.00642052\n",
      "  0.00326842]\n"
     ]
    }
   ],
   "source": [
    "import matplotlib.pyplot as plt\n",
    "from skimage.feature import hog\n",
    "\n",
    "\n",
    "a = np.array([np.var(hog(X1[i,15:60,15:60], orientations=4, pixels_per_cell=(15, 15),\n",
    "                    cells_per_block=(1, 1))) for i in range(X1.shape[0])])\n",
    "print(a)"
   ]
  },
  {
   "cell_type": "code",
   "execution_count": 107,
   "metadata": {},
   "outputs": [
    {
     "ename": "ValueError",
     "evalue": "Length of values does not match length of index",
     "output_type": "error",
     "traceback": [
      "\u001b[1;31m---------------------------------------------------------------------------\u001b[0m",
      "\u001b[1;31mValueError\u001b[0m                                Traceback (most recent call last)",
      "\u001b[1;32m<ipython-input-107-64232d1ae7d7>\u001b[0m in \u001b[0;36m<module>\u001b[1;34m()\u001b[0m\n\u001b[1;32m----> 1\u001b[1;33m \u001b[0mtrain_df\u001b[0m\u001b[1;33m[\u001b[0m\u001b[1;34m'hogvar'\u001b[0m\u001b[1;33m]\u001b[0m \u001b[1;33m=\u001b[0m \u001b[1;33m[\u001b[0m\u001b[0ma\u001b[0m\u001b[1;33m]\u001b[0m\u001b[1;33m\u001b[0m\u001b[0m\n\u001b[0m\u001b[0;32m      2\u001b[0m \u001b[0mtrain\u001b[0m\u001b[1;33m\u001b[0m\u001b[0m\n\u001b[0;32m      3\u001b[0m \u001b[1;31m#train_df['hogvar']\u001b[0m\u001b[1;33m\u001b[0m\u001b[1;33m\u001b[0m\u001b[0m\n\u001b[0;32m      4\u001b[0m \u001b[1;31m#plt.hist(train_df[train_df.is_iceberg==1,'hogvar'],range=[0,1],\u001b[0m\u001b[1;33m\u001b[0m\u001b[1;33m\u001b[0m\u001b[0m\n\u001b[0;32m      5\u001b[0m  \u001b[1;31m#            bins=50,color='b',alpha=0.5,label='Boat');\u001b[0m\u001b[1;33m\u001b[0m\u001b[1;33m\u001b[0m\u001b[0m\n",
      "\u001b[1;32mC:\\Users\\adria\\Anaconda3\\lib\\site-packages\\pandas\\core\\frame.py\u001b[0m in \u001b[0;36m__setitem__\u001b[1;34m(self, key, value)\u001b[0m\n\u001b[0;32m   2427\u001b[0m         \u001b[1;32melse\u001b[0m\u001b[1;33m:\u001b[0m\u001b[1;33m\u001b[0m\u001b[0m\n\u001b[0;32m   2428\u001b[0m             \u001b[1;31m# set column\u001b[0m\u001b[1;33m\u001b[0m\u001b[1;33m\u001b[0m\u001b[0m\n\u001b[1;32m-> 2429\u001b[1;33m             \u001b[0mself\u001b[0m\u001b[1;33m.\u001b[0m\u001b[0m_set_item\u001b[0m\u001b[1;33m(\u001b[0m\u001b[0mkey\u001b[0m\u001b[1;33m,\u001b[0m \u001b[0mvalue\u001b[0m\u001b[1;33m)\u001b[0m\u001b[1;33m\u001b[0m\u001b[0m\n\u001b[0m\u001b[0;32m   2430\u001b[0m \u001b[1;33m\u001b[0m\u001b[0m\n\u001b[0;32m   2431\u001b[0m     \u001b[1;32mdef\u001b[0m \u001b[0m_setitem_slice\u001b[0m\u001b[1;33m(\u001b[0m\u001b[0mself\u001b[0m\u001b[1;33m,\u001b[0m \u001b[0mkey\u001b[0m\u001b[1;33m,\u001b[0m \u001b[0mvalue\u001b[0m\u001b[1;33m)\u001b[0m\u001b[1;33m:\u001b[0m\u001b[1;33m\u001b[0m\u001b[0m\n",
      "\u001b[1;32mC:\\Users\\adria\\Anaconda3\\lib\\site-packages\\pandas\\core\\frame.py\u001b[0m in \u001b[0;36m_set_item\u001b[1;34m(self, key, value)\u001b[0m\n\u001b[0;32m   2493\u001b[0m \u001b[1;33m\u001b[0m\u001b[0m\n\u001b[0;32m   2494\u001b[0m         \u001b[0mself\u001b[0m\u001b[1;33m.\u001b[0m\u001b[0m_ensure_valid_index\u001b[0m\u001b[1;33m(\u001b[0m\u001b[0mvalue\u001b[0m\u001b[1;33m)\u001b[0m\u001b[1;33m\u001b[0m\u001b[0m\n\u001b[1;32m-> 2495\u001b[1;33m         \u001b[0mvalue\u001b[0m \u001b[1;33m=\u001b[0m \u001b[0mself\u001b[0m\u001b[1;33m.\u001b[0m\u001b[0m_sanitize_column\u001b[0m\u001b[1;33m(\u001b[0m\u001b[0mkey\u001b[0m\u001b[1;33m,\u001b[0m \u001b[0mvalue\u001b[0m\u001b[1;33m)\u001b[0m\u001b[1;33m\u001b[0m\u001b[0m\n\u001b[0m\u001b[0;32m   2496\u001b[0m         \u001b[0mNDFrame\u001b[0m\u001b[1;33m.\u001b[0m\u001b[0m_set_item\u001b[0m\u001b[1;33m(\u001b[0m\u001b[0mself\u001b[0m\u001b[1;33m,\u001b[0m \u001b[0mkey\u001b[0m\u001b[1;33m,\u001b[0m \u001b[0mvalue\u001b[0m\u001b[1;33m)\u001b[0m\u001b[1;33m\u001b[0m\u001b[0m\n\u001b[0;32m   2497\u001b[0m \u001b[1;33m\u001b[0m\u001b[0m\n",
      "\u001b[1;32mC:\\Users\\adria\\Anaconda3\\lib\\site-packages\\pandas\\core\\frame.py\u001b[0m in \u001b[0;36m_sanitize_column\u001b[1;34m(self, key, value, broadcast)\u001b[0m\n\u001b[0;32m   2664\u001b[0m \u001b[1;33m\u001b[0m\u001b[0m\n\u001b[0;32m   2665\u001b[0m             \u001b[1;31m# turn me into an ndarray\u001b[0m\u001b[1;33m\u001b[0m\u001b[1;33m\u001b[0m\u001b[0m\n\u001b[1;32m-> 2666\u001b[1;33m             \u001b[0mvalue\u001b[0m \u001b[1;33m=\u001b[0m \u001b[0m_sanitize_index\u001b[0m\u001b[1;33m(\u001b[0m\u001b[0mvalue\u001b[0m\u001b[1;33m,\u001b[0m \u001b[0mself\u001b[0m\u001b[1;33m.\u001b[0m\u001b[0mindex\u001b[0m\u001b[1;33m,\u001b[0m \u001b[0mcopy\u001b[0m\u001b[1;33m=\u001b[0m\u001b[1;32mFalse\u001b[0m\u001b[1;33m)\u001b[0m\u001b[1;33m\u001b[0m\u001b[0m\n\u001b[0m\u001b[0;32m   2667\u001b[0m             \u001b[1;32mif\u001b[0m \u001b[1;32mnot\u001b[0m \u001b[0misinstance\u001b[0m\u001b[1;33m(\u001b[0m\u001b[0mvalue\u001b[0m\u001b[1;33m,\u001b[0m \u001b[1;33m(\u001b[0m\u001b[0mnp\u001b[0m\u001b[1;33m.\u001b[0m\u001b[0mndarray\u001b[0m\u001b[1;33m,\u001b[0m \u001b[0mIndex\u001b[0m\u001b[1;33m)\u001b[0m\u001b[1;33m)\u001b[0m\u001b[1;33m:\u001b[0m\u001b[1;33m\u001b[0m\u001b[0m\n\u001b[0;32m   2668\u001b[0m                 \u001b[1;32mif\u001b[0m \u001b[0misinstance\u001b[0m\u001b[1;33m(\u001b[0m\u001b[0mvalue\u001b[0m\u001b[1;33m,\u001b[0m \u001b[0mlist\u001b[0m\u001b[1;33m)\u001b[0m \u001b[1;32mand\u001b[0m \u001b[0mlen\u001b[0m\u001b[1;33m(\u001b[0m\u001b[0mvalue\u001b[0m\u001b[1;33m)\u001b[0m \u001b[1;33m>\u001b[0m \u001b[1;36m0\u001b[0m\u001b[1;33m:\u001b[0m\u001b[1;33m\u001b[0m\u001b[0m\n",
      "\u001b[1;32mC:\\Users\\adria\\Anaconda3\\lib\\site-packages\\pandas\\core\\series.py\u001b[0m in \u001b[0;36m_sanitize_index\u001b[1;34m(data, index, copy)\u001b[0m\n\u001b[0;32m   2877\u001b[0m \u001b[1;33m\u001b[0m\u001b[0m\n\u001b[0;32m   2878\u001b[0m     \u001b[1;32mif\u001b[0m \u001b[0mlen\u001b[0m\u001b[1;33m(\u001b[0m\u001b[0mdata\u001b[0m\u001b[1;33m)\u001b[0m \u001b[1;33m!=\u001b[0m \u001b[0mlen\u001b[0m\u001b[1;33m(\u001b[0m\u001b[0mindex\u001b[0m\u001b[1;33m)\u001b[0m\u001b[1;33m:\u001b[0m\u001b[1;33m\u001b[0m\u001b[0m\n\u001b[1;32m-> 2879\u001b[1;33m         \u001b[1;32mraise\u001b[0m \u001b[0mValueError\u001b[0m\u001b[1;33m(\u001b[0m\u001b[1;34m'Length of values does not match length of '\u001b[0m \u001b[1;34m'index'\u001b[0m\u001b[1;33m)\u001b[0m\u001b[1;33m\u001b[0m\u001b[0m\n\u001b[0m\u001b[0;32m   2880\u001b[0m \u001b[1;33m\u001b[0m\u001b[0m\n\u001b[0;32m   2881\u001b[0m     \u001b[1;32mif\u001b[0m \u001b[0misinstance\u001b[0m\u001b[1;33m(\u001b[0m\u001b[0mdata\u001b[0m\u001b[1;33m,\u001b[0m \u001b[0mPeriodIndex\u001b[0m\u001b[1;33m)\u001b[0m\u001b[1;33m:\u001b[0m\u001b[1;33m\u001b[0m\u001b[0m\n",
      "\u001b[1;31mValueError\u001b[0m: Length of values does not match length of index"
     ]
    }
   ],
   "source": [
    "train_df['hogvar'] = [a]\n",
    "train\n",
    "#train_df['hogvar']\n",
    "#plt.hist(train_df[train_df.is_iceberg==1,'hogvar'],range=[0,1],\n",
    " #            bins=50,color='b',alpha=0.5,label='Boat');"
   ]
  },
  {
   "cell_type": "markdown",
   "metadata": {},
   "source": [
    "Calculate features"
   ]
  },
  {
   "cell_type": "code",
   "execution_count": null,
   "metadata": {
    "collapsed": true
   },
   "outputs": [],
   "source": []
  },
  {
   "cell_type": "markdown",
   "metadata": {},
   "source": [
    "Compare features"
   ]
  },
  {
   "cell_type": "code",
   "execution_count": null,
   "metadata": {
    "collapsed": true
   },
   "outputs": [],
   "source": []
  },
  {
   "cell_type": "markdown",
   "metadata": {},
   "source": [
    "Split into validation and training"
   ]
  },
  {
   "cell_type": "code",
   "execution_count": null,
   "metadata": {
    "collapsed": true
   },
   "outputs": [],
   "source": [
    "X_train_s, X_valid_s, X_angle_train_s, X_angle_valid_s, Y_train_s, Y_valid_s = train_test_split(X_train, X_angle_train , Y_train, test_size=0.15, random_state=42, stratify=Y_train)\n"
   ]
  },
  {
   "cell_type": "markdown",
   "metadata": {},
   "source": [
    "Classify with SVM"
   ]
  },
  {
   "cell_type": "code",
   "execution_count": null,
   "metadata": {
    "collapsed": true
   },
   "outputs": [],
   "source": [
    "from sklearn import svm\n"
   ]
  }
 ],
 "metadata": {
  "kernelspec": {
   "display_name": "Python 3",
   "language": "python",
   "name": "python3"
  },
  "language_info": {
   "codemirror_mode": {
    "name": "ipython",
    "version": 3
   },
   "file_extension": ".py",
   "mimetype": "text/x-python",
   "name": "python",
   "nbconvert_exporter": "python",
   "pygments_lexer": "ipython3",
   "version": "3.6.1"
  }
 },
 "nbformat": 4,
 "nbformat_minor": 2
}
